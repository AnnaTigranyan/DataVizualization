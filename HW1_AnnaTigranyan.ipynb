{
 "cells": [
  {
   "cell_type": "markdown",
   "id": "816b7c6b",
   "metadata": {},
   "source": [
    "# Homework2\n",
    "\n",
    "## Monthly Retention Rate\n",
    "\n",
    "### Anna Tigranyan"
   ]
  },
  {
   "cell_type": "markdown",
   "id": "71b563c7",
   "metadata": {},
   "source": [
    "#### Libraries"
   ]
  },
  {
   "cell_type": "code",
   "execution_count": null,
   "id": "32c1f8a8",
   "metadata": {},
   "outputs": [],
   "source": [
    "import pandas as pd\n",
    "import seaborn as sns\n",
    "import matplotlib.pyplot as plt"
   ]
  },
  {
   "cell_type": "code",
   "execution_count": 107,
   "id": "43ab98c1",
   "metadata": {},
   "outputs": [],
   "source": [
    "df = pd.read_csv(\"online_retail_II.csv\")"
   ]
  },
  {
   "cell_type": "code",
   "execution_count": 108,
   "id": "981808f0",
   "metadata": {},
   "outputs": [
    {
     "data": {
      "text/html": [
       "<div>\n",
       "<style scoped>\n",
       "    .dataframe tbody tr th:only-of-type {\n",
       "        vertical-align: middle;\n",
       "    }\n",
       "\n",
       "    .dataframe tbody tr th {\n",
       "        vertical-align: top;\n",
       "    }\n",
       "\n",
       "    .dataframe thead th {\n",
       "        text-align: right;\n",
       "    }\n",
       "</style>\n",
       "<table border=\"1\" class=\"dataframe\">\n",
       "  <thead>\n",
       "    <tr style=\"text-align: right;\">\n",
       "      <th></th>\n",
       "      <th>Invoice</th>\n",
       "      <th>StockCode</th>\n",
       "      <th>Description</th>\n",
       "      <th>Quantity</th>\n",
       "      <th>InvoiceDate</th>\n",
       "      <th>Price</th>\n",
       "      <th>Customer ID</th>\n",
       "      <th>Country</th>\n",
       "    </tr>\n",
       "  </thead>\n",
       "  <tbody>\n",
       "    <tr>\n",
       "      <th>0</th>\n",
       "      <td>489434</td>\n",
       "      <td>85048</td>\n",
       "      <td>15CM CHRISTMAS GLASS BALL 20 LIGHTS</td>\n",
       "      <td>12</td>\n",
       "      <td>2009-12-01 07:45:00</td>\n",
       "      <td>6.95</td>\n",
       "      <td>13085.0</td>\n",
       "      <td>United Kingdom</td>\n",
       "    </tr>\n",
       "    <tr>\n",
       "      <th>1</th>\n",
       "      <td>489434</td>\n",
       "      <td>79323P</td>\n",
       "      <td>PINK CHERRY LIGHTS</td>\n",
       "      <td>12</td>\n",
       "      <td>2009-12-01 07:45:00</td>\n",
       "      <td>6.75</td>\n",
       "      <td>13085.0</td>\n",
       "      <td>United Kingdom</td>\n",
       "    </tr>\n",
       "    <tr>\n",
       "      <th>2</th>\n",
       "      <td>489434</td>\n",
       "      <td>79323W</td>\n",
       "      <td>WHITE CHERRY LIGHTS</td>\n",
       "      <td>12</td>\n",
       "      <td>2009-12-01 07:45:00</td>\n",
       "      <td>6.75</td>\n",
       "      <td>13085.0</td>\n",
       "      <td>United Kingdom</td>\n",
       "    </tr>\n",
       "    <tr>\n",
       "      <th>3</th>\n",
       "      <td>489434</td>\n",
       "      <td>22041</td>\n",
       "      <td>RECORD FRAME 7\" SINGLE SIZE</td>\n",
       "      <td>48</td>\n",
       "      <td>2009-12-01 07:45:00</td>\n",
       "      <td>2.10</td>\n",
       "      <td>13085.0</td>\n",
       "      <td>United Kingdom</td>\n",
       "    </tr>\n",
       "    <tr>\n",
       "      <th>4</th>\n",
       "      <td>489434</td>\n",
       "      <td>21232</td>\n",
       "      <td>STRAWBERRY CERAMIC TRINKET BOX</td>\n",
       "      <td>24</td>\n",
       "      <td>2009-12-01 07:45:00</td>\n",
       "      <td>1.25</td>\n",
       "      <td>13085.0</td>\n",
       "      <td>United Kingdom</td>\n",
       "    </tr>\n",
       "  </tbody>\n",
       "</table>\n",
       "</div>"
      ],
      "text/plain": [
       "  Invoice StockCode                          Description  Quantity  \\\n",
       "0  489434     85048  15CM CHRISTMAS GLASS BALL 20 LIGHTS        12   \n",
       "1  489434    79323P                   PINK CHERRY LIGHTS        12   \n",
       "2  489434    79323W                  WHITE CHERRY LIGHTS        12   \n",
       "3  489434     22041         RECORD FRAME 7\" SINGLE SIZE         48   \n",
       "4  489434     21232       STRAWBERRY CERAMIC TRINKET BOX        24   \n",
       "\n",
       "           InvoiceDate  Price  Customer ID         Country  \n",
       "0  2009-12-01 07:45:00   6.95      13085.0  United Kingdom  \n",
       "1  2009-12-01 07:45:00   6.75      13085.0  United Kingdom  \n",
       "2  2009-12-01 07:45:00   6.75      13085.0  United Kingdom  \n",
       "3  2009-12-01 07:45:00   2.10      13085.0  United Kingdom  \n",
       "4  2009-12-01 07:45:00   1.25      13085.0  United Kingdom  "
      ]
     },
     "execution_count": 108,
     "metadata": {},
     "output_type": "execute_result"
    }
   ],
   "source": [
    "df.head()"
   ]
  },
  {
   "cell_type": "markdown",
   "id": "a7d78402",
   "metadata": {},
   "source": [
    "<b>InvoiceDate</b>-ը դարձնենք <b>datetime</b>։"
   ]
  },
  {
   "cell_type": "code",
   "execution_count": 109,
   "id": "68b6bd2e",
   "metadata": {},
   "outputs": [],
   "source": [
    "df[\"InvoiceDate\"] = pd.to_datetime(df['InvoiceDate']).dt.date"
   ]
  },
  {
   "cell_type": "markdown",
   "id": "7a055e0d",
   "metadata": {},
   "source": [
    "Որպես <b>df1</b> մեր դատայից առանձնացնենք <b>\"Customer ID\"</b> և <b>\"InvoiceDate\"</b> սյուները,որոնք կօգտագործենք հետագա հաշվարկներում։"
   ]
  },
  {
   "cell_type": "code",
   "execution_count": 110,
   "id": "588395e0",
   "metadata": {},
   "outputs": [
    {
     "data": {
      "text/html": [
       "<div>\n",
       "<style scoped>\n",
       "    .dataframe tbody tr th:only-of-type {\n",
       "        vertical-align: middle;\n",
       "    }\n",
       "\n",
       "    .dataframe tbody tr th {\n",
       "        vertical-align: top;\n",
       "    }\n",
       "\n",
       "    .dataframe thead th {\n",
       "        text-align: right;\n",
       "    }\n",
       "</style>\n",
       "<table border=\"1\" class=\"dataframe\">\n",
       "  <thead>\n",
       "    <tr style=\"text-align: right;\">\n",
       "      <th></th>\n",
       "      <th>Customer ID</th>\n",
       "      <th>InvoiceDate</th>\n",
       "    </tr>\n",
       "  </thead>\n",
       "  <tbody>\n",
       "    <tr>\n",
       "      <th>0</th>\n",
       "      <td>13085.0</td>\n",
       "      <td>2009-12-01</td>\n",
       "    </tr>\n",
       "    <tr>\n",
       "      <th>1</th>\n",
       "      <td>13085.0</td>\n",
       "      <td>2009-12-01</td>\n",
       "    </tr>\n",
       "    <tr>\n",
       "      <th>2</th>\n",
       "      <td>13085.0</td>\n",
       "      <td>2009-12-01</td>\n",
       "    </tr>\n",
       "    <tr>\n",
       "      <th>3</th>\n",
       "      <td>13085.0</td>\n",
       "      <td>2009-12-01</td>\n",
       "    </tr>\n",
       "    <tr>\n",
       "      <th>4</th>\n",
       "      <td>13085.0</td>\n",
       "      <td>2009-12-01</td>\n",
       "    </tr>\n",
       "  </tbody>\n",
       "</table>\n",
       "</div>"
      ],
      "text/plain": [
       "   Customer ID InvoiceDate\n",
       "0      13085.0  2009-12-01\n",
       "1      13085.0  2009-12-01\n",
       "2      13085.0  2009-12-01\n",
       "3      13085.0  2009-12-01\n",
       "4      13085.0  2009-12-01"
      ]
     },
     "execution_count": 110,
     "metadata": {},
     "output_type": "execute_result"
    }
   ],
   "source": [
    "df1 = df[[\"Customer ID\",'InvoiceDate']]\n",
    "df1.head()"
   ]
  },
  {
   "cell_type": "markdown",
   "id": "35bef841",
   "metadata": {},
   "source": [
    "Օգտագործելով <b>groupby</b>-ը որպես <b>start_date</b> յուրաքանչյուր Customer-ի համար վերցնենք իր այցելության առաջին օրը(կկիրառենք <b>min()</b> ֆունկցիան, որ այցելության բոլոր օրերից վերցնի առաջինը)"
   ]
  },
  {
   "cell_type": "code",
   "execution_count": 111,
   "id": "fcf700a3",
   "metadata": {},
   "outputs": [
    {
     "data": {
      "text/plain": [
       "Customer ID\n",
       "12346.0    2009-12-14\n",
       "12347.0    2010-10-31\n",
       "12348.0    2010-09-27\n",
       "12349.0    2009-12-04\n",
       "12350.0    2011-02-02\n",
       "Name: start_day, dtype: object"
      ]
     },
     "execution_count": 111,
     "metadata": {},
     "output_type": "execute_result"
    }
   ],
   "source": [
    "start_date = df1.groupby('Customer ID')[\"InvoiceDate\"].min()\n",
    "start_date = start_date.rename(\"start_day\")\n",
    "start_date.head()\n"
   ]
  },
  {
   "cell_type": "markdown",
   "id": "659a5561",
   "metadata": {},
   "source": [
    "Որից հետո մեր <b>df1</b>-ին <b>merge()</b>-ի օգնությամբ ըստ <b>'Customer ID'</b>-ի <b>left join</b> իրականացնենք։"
   ]
  },
  {
   "cell_type": "code",
   "execution_count": 112,
   "id": "f0e80066",
   "metadata": {},
   "outputs": [
    {
     "data": {
      "text/html": [
       "<div>\n",
       "<style scoped>\n",
       "    .dataframe tbody tr th:only-of-type {\n",
       "        vertical-align: middle;\n",
       "    }\n",
       "\n",
       "    .dataframe tbody tr th {\n",
       "        vertical-align: top;\n",
       "    }\n",
       "\n",
       "    .dataframe thead th {\n",
       "        text-align: right;\n",
       "    }\n",
       "</style>\n",
       "<table border=\"1\" class=\"dataframe\">\n",
       "  <thead>\n",
       "    <tr style=\"text-align: right;\">\n",
       "      <th></th>\n",
       "      <th>Customer ID</th>\n",
       "      <th>InvoiceDate</th>\n",
       "      <th>start_day</th>\n",
       "    </tr>\n",
       "  </thead>\n",
       "  <tbody>\n",
       "    <tr>\n",
       "      <th>0</th>\n",
       "      <td>13085.0</td>\n",
       "      <td>2009-12-01</td>\n",
       "      <td>2009-12-01</td>\n",
       "    </tr>\n",
       "    <tr>\n",
       "      <th>1</th>\n",
       "      <td>13085.0</td>\n",
       "      <td>2009-12-01</td>\n",
       "      <td>2009-12-01</td>\n",
       "    </tr>\n",
       "    <tr>\n",
       "      <th>2</th>\n",
       "      <td>13085.0</td>\n",
       "      <td>2009-12-01</td>\n",
       "      <td>2009-12-01</td>\n",
       "    </tr>\n",
       "    <tr>\n",
       "      <th>3</th>\n",
       "      <td>13085.0</td>\n",
       "      <td>2009-12-01</td>\n",
       "      <td>2009-12-01</td>\n",
       "    </tr>\n",
       "    <tr>\n",
       "      <th>4</th>\n",
       "      <td>13085.0</td>\n",
       "      <td>2009-12-01</td>\n",
       "      <td>2009-12-01</td>\n",
       "    </tr>\n",
       "  </tbody>\n",
       "</table>\n",
       "</div>"
      ],
      "text/plain": [
       "   Customer ID InvoiceDate   start_day\n",
       "0      13085.0  2009-12-01  2009-12-01\n",
       "1      13085.0  2009-12-01  2009-12-01\n",
       "2      13085.0  2009-12-01  2009-12-01\n",
       "3      13085.0  2009-12-01  2009-12-01\n",
       "4      13085.0  2009-12-01  2009-12-01"
      ]
     },
     "execution_count": 112,
     "metadata": {},
     "output_type": "execute_result"
    }
   ],
   "source": [
    "\n",
    "df1 = pd.merge(df1, start_date, left_on='Customer ID', right_index=True)\n",
    "df1.head()"
   ]
  },
  {
   "cell_type": "markdown",
   "id": "155095f5",
   "metadata": {},
   "source": [
    "Արդյունքում յուրաքանչյուր <b>Customer ID</b>-ի համար ստանում ենք 2 սյուն՝ <b>InvoiceDate</b> և թե տվյալ հաճախորդը առաջին անգամ երբ է այցելել՝ <b>start_day</b>։"
   ]
  },
  {
   "cell_type": "markdown",
   "id": "d30aa1a6",
   "metadata": {},
   "source": [
    "Եթե մենք այս երկու սյուների օրերը իրարից հանենք կստանանք  տվյալ հաճախորդի համար իր առաջին և հետագա այցելության միջև եղած օրերի քանակը, այսինքն՝ քանի օր անց է նորից այցելել(եթե ամսաթվերը համընկնեն կլինի 0, եթե 1 ստանքնք ուրեմն այդ հաճախորդը տվյալ start_day-ից 1 օր հետո հետ է վերադարձել )։"
   ]
  },
  {
   "cell_type": "code",
   "execution_count": 113,
   "id": "8dacf955",
   "metadata": {},
   "outputs": [
    {
     "data": {
      "text/html": [
       "<div>\n",
       "<style scoped>\n",
       "    .dataframe tbody tr th:only-of-type {\n",
       "        vertical-align: middle;\n",
       "    }\n",
       "\n",
       "    .dataframe tbody tr th {\n",
       "        vertical-align: top;\n",
       "    }\n",
       "\n",
       "    .dataframe thead th {\n",
       "        text-align: right;\n",
       "    }\n",
       "</style>\n",
       "<table border=\"1\" class=\"dataframe\">\n",
       "  <thead>\n",
       "    <tr style=\"text-align: right;\">\n",
       "      <th></th>\n",
       "      <th>Customer ID</th>\n",
       "      <th>InvoiceDate</th>\n",
       "      <th>start_day</th>\n",
       "      <th>days_since_start</th>\n",
       "    </tr>\n",
       "  </thead>\n",
       "  <tbody>\n",
       "    <tr>\n",
       "      <th>0</th>\n",
       "      <td>13085.0</td>\n",
       "      <td>2009-12-01</td>\n",
       "      <td>2009-12-01</td>\n",
       "      <td>0</td>\n",
       "    </tr>\n",
       "    <tr>\n",
       "      <th>1</th>\n",
       "      <td>13085.0</td>\n",
       "      <td>2009-12-01</td>\n",
       "      <td>2009-12-01</td>\n",
       "      <td>0</td>\n",
       "    </tr>\n",
       "    <tr>\n",
       "      <th>2</th>\n",
       "      <td>13085.0</td>\n",
       "      <td>2009-12-01</td>\n",
       "      <td>2009-12-01</td>\n",
       "      <td>0</td>\n",
       "    </tr>\n",
       "    <tr>\n",
       "      <th>3</th>\n",
       "      <td>13085.0</td>\n",
       "      <td>2009-12-01</td>\n",
       "      <td>2009-12-01</td>\n",
       "      <td>0</td>\n",
       "    </tr>\n",
       "    <tr>\n",
       "      <th>4</th>\n",
       "      <td>13085.0</td>\n",
       "      <td>2009-12-01</td>\n",
       "      <td>2009-12-01</td>\n",
       "      <td>0</td>\n",
       "    </tr>\n",
       "  </tbody>\n",
       "</table>\n",
       "</div>"
      ],
      "text/plain": [
       "   Customer ID InvoiceDate   start_day  days_since_start\n",
       "0      13085.0  2009-12-01  2009-12-01                 0\n",
       "1      13085.0  2009-12-01  2009-12-01                 0\n",
       "2      13085.0  2009-12-01  2009-12-01                 0\n",
       "3      13085.0  2009-12-01  2009-12-01                 0\n",
       "4      13085.0  2009-12-01  2009-12-01                 0"
      ]
     },
     "execution_count": 113,
     "metadata": {},
     "output_type": "execute_result"
    }
   ],
   "source": [
    "df1['days_since_start'] = (df1['InvoiceDate'] - df1['start_day']).dt.days\n",
    "df1.head()"
   ]
  },
  {
   "cell_type": "markdown",
   "id": "cec60016",
   "metadata": {},
   "source": [
    "Ստացանք յուրաքանչյուր հաճախորդի համար վերը նկարագրված <b>days_since_start</b> սյունը:"
   ]
  },
  {
   "cell_type": "markdown",
   "id": "ebf06b0b",
   "metadata": {},
   "source": [
    "Այժմ որպես սկզբնական ամսաթիվ վերցնենք start_day-ի ամենափոքր ամսաթիվը։"
   ]
  },
  {
   "cell_type": "code",
   "execution_count": 114,
   "id": "5be06dad",
   "metadata": {},
   "outputs": [],
   "source": [
    "date1 = df1[\"start_day\"][0]"
   ]
  },
  {
   "cell_type": "markdown",
   "id": "840e3766",
   "metadata": {},
   "source": [
    "Վերցնենք df1 միայն այն տողերը որոնց համար <b>start_day</b>–ը հավասար է եղել <b>date1</b>-ի։"
   ]
  },
  {
   "cell_type": "code",
   "execution_count": 119,
   "id": "5add4f62",
   "metadata": {},
   "outputs": [
    {
     "data": {
      "text/html": [
       "<div>\n",
       "<style scoped>\n",
       "    .dataframe tbody tr th:only-of-type {\n",
       "        vertical-align: middle;\n",
       "    }\n",
       "\n",
       "    .dataframe tbody tr th {\n",
       "        vertical-align: top;\n",
       "    }\n",
       "\n",
       "    .dataframe thead th {\n",
       "        text-align: right;\n",
       "    }\n",
       "</style>\n",
       "<table border=\"1\" class=\"dataframe\">\n",
       "  <thead>\n",
       "    <tr style=\"text-align: right;\">\n",
       "      <th></th>\n",
       "      <th>Customer ID</th>\n",
       "      <th>InvoiceDate</th>\n",
       "      <th>start_day</th>\n",
       "      <th>days_since_start</th>\n",
       "    </tr>\n",
       "  </thead>\n",
       "  <tbody>\n",
       "    <tr>\n",
       "      <th>0</th>\n",
       "      <td>13085.0</td>\n",
       "      <td>2009-12-01</td>\n",
       "      <td>2009-12-01</td>\n",
       "      <td>0</td>\n",
       "    </tr>\n",
       "    <tr>\n",
       "      <th>1</th>\n",
       "      <td>13085.0</td>\n",
       "      <td>2009-12-01</td>\n",
       "      <td>2009-12-01</td>\n",
       "      <td>0</td>\n",
       "    </tr>\n",
       "    <tr>\n",
       "      <th>2</th>\n",
       "      <td>13085.0</td>\n",
       "      <td>2009-12-01</td>\n",
       "      <td>2009-12-01</td>\n",
       "      <td>0</td>\n",
       "    </tr>\n",
       "    <tr>\n",
       "      <th>3</th>\n",
       "      <td>13085.0</td>\n",
       "      <td>2009-12-01</td>\n",
       "      <td>2009-12-01</td>\n",
       "      <td>0</td>\n",
       "    </tr>\n",
       "    <tr>\n",
       "      <th>4</th>\n",
       "      <td>13085.0</td>\n",
       "      <td>2009-12-01</td>\n",
       "      <td>2009-12-01</td>\n",
       "      <td>0</td>\n",
       "    </tr>\n",
       "  </tbody>\n",
       "</table>\n",
       "</div>"
      ],
      "text/plain": [
       "   Customer ID InvoiceDate   start_day  days_since_start\n",
       "0      13085.0  2009-12-01  2009-12-01                 0\n",
       "1      13085.0  2009-12-01  2009-12-01                 0\n",
       "2      13085.0  2009-12-01  2009-12-01                 0\n",
       "3      13085.0  2009-12-01  2009-12-01                 0\n",
       "4      13085.0  2009-12-01  2009-12-01                 0"
      ]
     },
     "execution_count": 119,
     "metadata": {},
     "output_type": "execute_result"
    }
   ],
   "source": [
    "A1 = df1.loc[df1[\"start_day\"] == date1]\n",
    "A1.head()"
   ]
  },
  {
   "cell_type": "markdown",
   "id": "1d236d34",
   "metadata": {},
   "source": [
    "Հանենք <b>դուպլիկատները</b>․"
   ]
  },
  {
   "cell_type": "code",
   "execution_count": 121,
   "id": "d8a5ec97",
   "metadata": {},
   "outputs": [
    {
     "data": {
      "text/html": [
       "<div>\n",
       "<style scoped>\n",
       "    .dataframe tbody tr th:only-of-type {\n",
       "        vertical-align: middle;\n",
       "    }\n",
       "\n",
       "    .dataframe tbody tr th {\n",
       "        vertical-align: top;\n",
       "    }\n",
       "\n",
       "    .dataframe thead th {\n",
       "        text-align: right;\n",
       "    }\n",
       "</style>\n",
       "<table border=\"1\" class=\"dataframe\">\n",
       "  <thead>\n",
       "    <tr style=\"text-align: right;\">\n",
       "      <th></th>\n",
       "      <th>Customer ID</th>\n",
       "      <th>InvoiceDate</th>\n",
       "      <th>start_day</th>\n",
       "      <th>days_since_start</th>\n",
       "    </tr>\n",
       "  </thead>\n",
       "  <tbody>\n",
       "    <tr>\n",
       "      <th>0</th>\n",
       "      <td>13085.0</td>\n",
       "      <td>2009-12-01</td>\n",
       "      <td>2009-12-01</td>\n",
       "      <td>0</td>\n",
       "    </tr>\n",
       "    <tr>\n",
       "      <th>7739</th>\n",
       "      <td>13085.0</td>\n",
       "      <td>2009-12-03</td>\n",
       "      <td>2009-12-01</td>\n",
       "      <td>2</td>\n",
       "    </tr>\n",
       "    <tr>\n",
       "      <th>74247</th>\n",
       "      <td>13085.0</td>\n",
       "      <td>2010-01-29</td>\n",
       "      <td>2009-12-01</td>\n",
       "      <td>59</td>\n",
       "    </tr>\n",
       "    <tr>\n",
       "      <th>394957</th>\n",
       "      <td>13085.0</td>\n",
       "      <td>2010-10-15</td>\n",
       "      <td>2009-12-01</td>\n",
       "      <td>318</td>\n",
       "    </tr>\n",
       "    <tr>\n",
       "      <th>619157</th>\n",
       "      <td>13085.0</td>\n",
       "      <td>2011-02-17</td>\n",
       "      <td>2009-12-01</td>\n",
       "      <td>443</td>\n",
       "    </tr>\n",
       "  </tbody>\n",
       "</table>\n",
       "</div>"
      ],
      "text/plain": [
       "        Customer ID InvoiceDate   start_day  days_since_start\n",
       "0           13085.0  2009-12-01  2009-12-01                 0\n",
       "7739        13085.0  2009-12-03  2009-12-01                 2\n",
       "74247       13085.0  2010-01-29  2009-12-01                59\n",
       "394957      13085.0  2010-10-15  2009-12-01               318\n",
       "619157      13085.0  2011-02-17  2009-12-01               443"
      ]
     },
     "execution_count": 121,
     "metadata": {},
     "output_type": "execute_result"
    }
   ],
   "source": [
    "A1 = A1.drop_duplicates()\n",
    "A1.head()"
   ]
  },
  {
   "cell_type": "markdown",
   "id": "c534a467",
   "metadata": {},
   "source": [
    "Հաշվենք <b>daily retention</b>-ը։"
   ]
  },
  {
   "cell_type": "code",
   "execution_count": 117,
   "id": "f4b5d843",
   "metadata": {},
   "outputs": [
    {
     "data": {
      "text/plain": [
       "days_since_start\n",
       "0     100.000000\n",
       "1       2.564103\n",
       "2       6.837607\n",
       "3       2.564103\n",
       "5       0.854701\n",
       "6       5.128205\n",
       "7       9.401709\n",
       "8       5.128205\n",
       "9       5.982906\n",
       "10     12.820513\n",
       "Name: start_day, dtype: float64"
      ]
     },
     "execution_count": 117,
     "metadata": {},
     "output_type": "execute_result"
    }
   ],
   "source": [
    "x = A1.groupby('days_since_start')[\"start_day\"].count()\n",
    "x = x/x[0] * 100\n",
    "x.head(10)"
   ]
  },
  {
   "cell_type": "markdown",
   "id": "9084c2a3",
   "metadata": {},
   "source": [
    "Ունեցանք, որ <b>2009-12-01</b> -ի համար <b>1</b> օր անց վերադարձել են տվյալ օրվա հաճախորդների <b>2.564103</b> տոկոսը, <b>2</b> օր անց՝ <b>6.837607</b> տոկոսը,․․․\n"
   ]
  },
  {
   "cell_type": "markdown",
   "id": "c20df3c8",
   "metadata": {},
   "source": [
    "Նման ձևով կարելի է հաշվարկել կամայական ամսաթվի համար։"
   ]
  },
  {
   "cell_type": "code",
   "execution_count": null,
   "id": "7744ac73",
   "metadata": {},
   "outputs": [],
   "source": []
  }
 ],
 "metadata": {
  "kernelspec": {
   "display_name": "Python 3",
   "language": "python",
   "name": "python3"
  },
  "language_info": {
   "codemirror_mode": {
    "name": "ipython",
    "version": 3
   },
   "file_extension": ".py",
   "mimetype": "text/x-python",
   "name": "python",
   "nbconvert_exporter": "python",
   "pygments_lexer": "ipython3",
   "version": "3.8.8"
  }
 },
 "nbformat": 4,
 "nbformat_minor": 5
}
